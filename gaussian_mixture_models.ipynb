{
  "nbformat": 4,
  "nbformat_minor": 0,
  "metadata": {
    "colab": {
      "name": "gaussian_mixture_models.ipynb",
      "provenance": [],
      "authorship_tag": "ABX9TyO9p0tqpvV65LzDqdX44OkN",
      "include_colab_link": true
    },
    "kernelspec": {
      "name": "python3",
      "display_name": "Python 3"
    },
    "language_info": {
      "name": "python"
    }
  },
  "cells": [
    {
      "cell_type": "markdown",
      "metadata": {
        "id": "view-in-github",
        "colab_type": "text"
      },
      "source": [
        "<a href=\"https://colab.research.google.com/github/luyuzhe111/machine-learning-foundamentals/blob/main/gaussian_mixture_models.ipynb\" target=\"_parent\"><img src=\"https://colab.research.google.com/assets/colab-badge.svg\" alt=\"Open In Colab\"/></a>"
      ]
    },
    {
      "cell_type": "code",
      "metadata": {
        "id": "LA-WoJyQSRN9"
      },
      "source": [
        "import pickle\n",
        "import numpy as np\n",
        "import matplotlib.pyplot as plt\n",
        "from matplotlib.patches import Ellipse\n",
        "import matplotlib.transforms as transforms\n",
        "from scipy.stats import multivariate_normal"
      ],
      "execution_count": 1,
      "outputs": []
    },
    {
      "cell_type": "code",
      "metadata": {
        "id": "6KnkExtEtdjH"
      },
      "source": [
        "with open('hw4_p2.pkl', 'rb') as f:\n",
        "    data = pickle.load(f)"
      ],
      "execution_count": 2,
      "outputs": []
    },
    {
      "cell_type": "code",
      "source": [
        "plt.scatter(data[:, 0], data[:, 1])"
      ],
      "metadata": {
        "colab": {
          "base_uri": "https://localhost:8080/",
          "height": 282
        },
        "id": "bVpIMiKWwxaE",
        "outputId": "34dd8e9e-309f-4054-bfa1-b443fd3e148f"
      },
      "execution_count": 3,
      "outputs": [
        {
          "output_type": "execute_result",
          "data": {
            "text/plain": [
              "<matplotlib.collections.PathCollection at 0x7f8a96696490>"
            ]
          },
          "metadata": {},
          "execution_count": 3
        },
        {
          "output_type": "display_data",
          "data": {
            "image/png": "[encoded data removed]",
            "text/plain": [
              "<Figure size 432x288 with 1 Axes>"
            ]
          },
          "metadata": {
            "needs_background": "light"
          }
        }
      ]
    },
    {
      "cell_type": "code",
      "metadata": {
        "id": "M9EFF3v6sxqT"
      },
      "source": [
        "class GMM:\n",
        "  def __init__(self, k, n_iter=5):\n",
        "    self.k = k\n",
        "    self.n_iter = n_iter\n",
        "    self.likelihoods = []\n",
        "\n",
        "  def init(self, X):\n",
        "    self.shape = X.shape\n",
        "    self.n, self.m = X.shape\n",
        "\n",
        "    self.alphas = np.ones((self.k, )) / self.k\n",
        "    self.probs = np.ones(self.shape) / self.k\n",
        "    \n",
        "    rand_inds = np.random.randint(low=0, high=self.n, size=self.k)\n",
        "    self.mu = [X[i,:] for i in rand_inds]\n",
        "    self.sigma = [np.cov(X.T) for _ in range(self.k)]\n",
        "  \n",
        "  def compute_prob(self, X):\n",
        "    likelihood = np.zeros((self.n, self.k))\n",
        "    for i in range(self.k):\n",
        "      distribution = multivariate_normal(mean=self.mu[i], cov=self.sigma[i])\n",
        "      likelihood[:,i] = distribution.pdf(X)\n",
        "    \n",
        "    self.likelihoods.append(likelihood.mean())\n",
        "    \n",
        "    numerator = likelihood * self.alphas\n",
        "    denominator = numerator.sum(1)[:, None]\n",
        "    probs = numerator / denominator\n",
        "    return probs\n",
        "\n",
        "  def expectation(self, X):\n",
        "    self.probs = self.compute_prob(X)\n",
        "  \n",
        "  def maximization(self, X):\n",
        "    self.alphas = self.probs.mean(0)\n",
        "    for i in range(self.k):\n",
        "      prob = self.probs[:, [i]]\n",
        "      k_prob = prob.sum()\n",
        "      self.mu[i] = (X * prob).sum(0) / k_prob\n",
        "      self.sigma[i] = np.cov(X.T, aweights=(prob / k_prob).flatten())\n",
        "\n",
        "  def fit(self, X):\n",
        "    self.init(X)\n",
        "    for _ in range(self.n_iter):\n",
        "      self.expectation(X)\n",
        "      self.maximization(X) "
      ],
      "execution_count": 4,
      "outputs": []
    },
    {
      "cell_type": "code",
      "source": [
        "n_iter = 20\n",
        "gmm = GMM(k=3, n_iter=n_iter)\n",
        "gmm.fit(data)"
      ],
      "metadata": {
        "id": "i9fSHeldskWA"
      },
      "execution_count": 5,
      "outputs": []
    },
    {
      "cell_type": "markdown",
      "source": [
        "### Data likelihoods "
      ],
      "metadata": {
        "id": "VPkzlYC-I0l2"
      }
    },
    {
      "cell_type": "code",
      "source": [
        "plt.plot(range(n_iter), gmm.likelihoods)\n",
        "plt.show()"
      ],
      "metadata": {
        "colab": {
          "base_uri": "https://localhost:8080/",
          "height": 265
        },
        "id": "7ZIa1vTyIdPF",
        "outputId": "8176e506-cecf-4a85-c312-54a1fff8596d"
      },
      "execution_count": 6,
      "outputs": [
        {
          "output_type": "display_data",
          "data": {
            "image/png": "[encoded data removed]",
            "text/plain": [
              "<Figure size 432x288 with 1 Axes>"
            ]
          },
          "metadata": {
            "needs_background": "light"
          }
        }
      ]
    },
    {
      "cell_type": "markdown",
      "source": [
        "### Learned GMM"
      ],
      "metadata": {
        "id": "_sCvbveLI5Mf"
      }
    },
    {
      "cell_type": "code",
      "source": [
        "mu = np.stack(gmm.mu,axis=0)\n",
        "sigma = np.stack(gmm.sigma,axis=0)"
      ],
      "metadata": {
        "id": "diqokJfJvDBM"
      },
      "execution_count": 7,
      "outputs": []
    },
    {
      "cell_type": "code",
      "source": [
        "def draw_conf2D(mu,Sigma,ax,n_std=2,**kwargs):\n",
        "  for i in range(mu.shape[0]):\n",
        "    pearson = Sigma[i,0,1]/np.sqrt(Sigma[i,0,0] * Sigma[i,1,1])\n",
        "\n",
        "    ell_radius_x = np.sqrt(1 + pearson)\n",
        "    ell_radius_y = np.sqrt(1 - pearson)\n",
        "    ellipse = Ellipse((0, 0), width=ell_radius_x * 2, height=ell_radius_y * 2)\n",
        "                      \n",
        "    scale_x = np.sqrt(Sigma[i,0,0]) * n_std\n",
        "    mean_x = mu[i,0]\n",
        "\n",
        "    scale_y = np.sqrt(Sigma[i,1,1]) * n_std\n",
        "    mean_y = mu[i,1]\n",
        "\n",
        "    transf = transforms \\\n",
        "      .Affine2D() \\\n",
        "      .rotate_deg(45) \\\n",
        "      .scale(scale_x, scale_y) \\\n",
        "      .translate(mean_x, mean_y)\n",
        "\n",
        "    ellipse.set_transform(transf + ax.transData)\n",
        "    ax.add_patch(ellipse)"
      ],
      "metadata": {
        "id": "KQ487gUuswLZ"
      },
      "execution_count": 8,
      "outputs": []
    },
    {
      "cell_type": "code",
      "source": [
        "fig, ax = plt.subplots()\n",
        "draw_conf2D(mu, sigma, ax)\n",
        "ax.scatter(mu[:, 0], mu[:, 1], c='r')\n",
        "ax.plot()"
      ],
      "metadata": {
        "colab": {
          "base_uri": "https://localhost:8080/",
          "height": 282
        },
        "id": "GBwZpE9qujrb",
        "outputId": "dfed344e-ee8e-4b31-f39e-81f921d19902"
      },
      "execution_count": 9,
      "outputs": [
        {
          "output_type": "execute_result",
          "data": {
            "text/plain": [
              "[]"
            ]
          },
          "metadata": {},
          "execution_count": 9
        },
        {
          "output_type": "display_data",
          "data": {
            "image/png": "[encoded data removed]",
            "text/plain": [
              "<Figure size 432x288 with 1 Axes>"
            ]
          },
          "metadata": {
            "needs_background": "light"
          }
        }
      ]
    },
    {
      "cell_type": "code",
      "source": [
        ""
      ],
      "metadata": {
        "id": "oFG26HFOzVcR"
      },
      "execution_count": 9,
      "outputs": []
    }
  ]
}