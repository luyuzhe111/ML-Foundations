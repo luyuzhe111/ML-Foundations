{
  "nbformat": 4,
  "nbformat_minor": 0,
  "metadata": {
    "colab": {
      "name": "bias-variance_trade-off.ipynb",
      "provenance": [],
      "collapsed_sections": [],
      "authorship_tag": "ABX9TyMhKAjAgYs0tP6fzNDaRvfm",
      "include_colab_link": true
    },
    "kernelspec": {
      "name": "python3",
      "display_name": "Python 3"
    },
    "language_info": {
      "name": "python"
    }
  },
  "cells": [
    {
      "cell_type": "markdown",
      "metadata": {
        "id": "view-in-github",
        "colab_type": "text"
      },
      "source": [
        "<a href=\"https://colab.research.google.com/github/luyuzhe111/machine-learning-foundamentals/blob/main/bias_variance_trade_off.ipynb\" target=\"_parent\"><img src=\"https://colab.research.google.com/assets/colab-badge.svg\" alt=\"Open In Colab\"/></a>"
      ]
    },
    {
      "cell_type": "code",
      "metadata": {
        "id": "XjdGGhLNDg_k"
      },
      "source": [
        "import numpy as np\n",
        "import matplotlib.pyplot as plt\n",
        "import pickle\n",
        "from sklearn.utils import shuffle"
      ],
      "execution_count": 1,
      "outputs": []
    },
    {
      "cell_type": "code",
      "metadata": {
        "id": "BapD2RNrIa2G"
      },
      "source": [
        "with open('data/hw2_p2.pkl', 'rb') as f:\n",
        "    data = pickle.load(f)"
      ],
      "execution_count": 10,
      "outputs": []
    },
    {
      "cell_type": "code",
      "metadata": {
        "colab": {
          "base_uri": "https://localhost:8080/",
          "height": 265
        },
        "id": "qP7j_k_N7hqL",
        "outputId": "c31cceac-40ca-4390-9e92-e02dd8be5c86"
      },
      "source": [
        "plt.scatter(data['x'], data['y'])\n",
        "plt.show()"
      ],
      "execution_count": 13,
      "outputs": [
        {
          "output_type": "display_data",
          "data": {
            "image/png": "[encoded data removed]",
            "text/plain": [
              "<Figure size 432x288 with 1 Axes>"
            ]
          },
          "metadata": {
            "needs_background": "light"
          }
        }
      ]
    },
    {
      "cell_type": "markdown",
      "metadata": {
        "id": "Ib2BMRdPAvbW"
      },
      "source": [
        "### Problem 1"
      ]
    },
    {
      "cell_type": "code",
      "metadata": {
        "id": "3ciA3G8m9zmc"
      },
      "source": [
        "def compute_mse(pred, gt):\n",
        "  error = np.sqrt(((gt - pred) ** 2).mean())\n",
        "  return error"
      ],
      "execution_count": 33,
      "outputs": []
    },
    {
      "cell_type": "code",
      "metadata": {
        "id": "rPG-aDfX_LBC"
      },
      "source": [
        "from collections import defaultdict"
      ],
      "execution_count": 41,
      "outputs": []
    },
    {
      "cell_type": "code",
      "metadata": {
        "id": "xnfNx3uh7IVa"
      },
      "source": [
        "x, y = shuffle(data['x'], data['y'])\n",
        "x_train = x[:50]\n",
        "x_test = x[50:]\n",
        "\n",
        "y_train = y[:50]\n",
        "y_test = y[50:]\n",
        "\n",
        "train_errors = defaultdict(list)\n",
        "test_errors = defaultdict(list)\n",
        "for d in range(1, 16):\n",
        "  X = np.stack([x_train ** i for i in range(0, d + 1)], axis=-1)\n",
        "  w = np.linalg.inv(X.T @ X) @ X.T @ y_train\n",
        "  \n",
        "  y_train_pred = X @ w.T\n",
        "\n",
        "  X_test = np.stack([x_test ** i for i in range(0, d + 1)], axis=-1)\n",
        "  y_test_pred = X_test @ w.T\n",
        "  \n",
        "  train_mse = compute_mse(y_train_pred, y_train)\n",
        "  test_mse = compute_mse(y_test_pred, y_test)\n",
        "  \n",
        "  train_errors[d].append(train_mse)\n",
        "  test_errors[d].append(test_mse)"
      ],
      "execution_count": 46,
      "outputs": []
    },
    {
      "cell_type": "code",
      "metadata": {
        "colab": {
          "base_uri": "https://localhost:8080/"
        },
        "id": "_X67mEws_low",
        "outputId": "acb0ce47-60ec-415e-eda3-478a1b014b65"
      },
      "source": [
        "print(train_errors, test_errors)"
      ],
      "execution_count": 49,
      "outputs": [
        {
          "output_type": "stream",
          "name": "stdout",
          "text": [
            "defaultdict(<class 'list'>, {1: [0.9360260719912403], 2: [0.9130857415896471], 3: [0.6587762841774587], 4: [0.4413357624587492], 5: [0.43468642003063207], 6: [0.4343661499848192], 7: [0.4083983384629419], 8: [0.4083190434776121], 9: [0.40826347786719247], 10: [0.40230465254806363], 11: [0.4010361873386649], 12: [0.39367850171666435], 13: [0.39204347510855475], 14: [0.38741211850041446], 15: [0.3848912282361554]}) defaultdict(<class 'list'>, {1: [1.355412472630724], 2: [1.3366074995981245], 3: [0.8919123677639845], 4: [0.4768473529691626], 5: [0.49905158937498745], 6: [0.5002723430860887], 7: [0.5470893458271028], 8: [0.5411573471971617], 9: [0.5468597704898532], 10: [0.5321784214131771], 11: [0.5923825721078847], 12: [0.5875168813939418], 13: [0.5373061260596713], 14: [1.2125407015693834], 15: [0.8560289981790351]})\n"
          ]
        }
      ]
    },
    {
      "cell_type": "markdown",
      "metadata": {
        "id": "sc3tE734Am8K"
      },
      "source": [
        "### Problem 2"
      ]
    },
    {
      "cell_type": "code",
      "metadata": {
        "id": "mFQliaBy9NAt"
      },
      "source": [
        "train_errors = defaultdict(list)\n",
        "test_errors = defaultdict(list)\n",
        "for _ in range(1000):\n",
        "  x, y = shuffle(data['x'], data['y'])\n",
        "  x_train = x[:50]\n",
        "  x_test = x[50:]\n",
        "\n",
        "  y_train = y[:50]\n",
        "  y_test = y[50:]\n",
        "\n",
        "  for d in range(1, 16):\n",
        "    X = np.stack([x_train ** i for i in range(0, d + 1)], axis=-1)\n",
        "    w = np.linalg.inv(X.T @ X) @ X.T @ y_train\n",
        "    \n",
        "    y_train_pred = X @ w.T\n",
        "\n",
        "    X_test = np.stack([x_test ** i for i in range(0, d + 1)], axis=-1)\n",
        "    y_test_pred = X_test @ w.T\n",
        "    \n",
        "    train_mse = compute_mse(y_train_pred, y_train)\n",
        "    test_mse = compute_mse(y_test_pred, y_test)\n",
        "    \n",
        "    train_errors[d].append(train_mse)\n",
        "    test_errors[d].append(test_mse)"
      ],
      "execution_count": 52,
      "outputs": []
    },
    {
      "cell_type": "markdown",
      "metadata": {
        "id": "hDL6Bhb6BMnD"
      },
      "source": [
        "### Problem 3"
      ]
    },
    {
      "cell_type": "code",
      "metadata": {
        "id": "IX2Zn44R7hG8"
      },
      "source": [
        "train_mmse_by_degree = []\n",
        "for d in range(1, 16):\n",
        "  train_error_lst = train_errors[d]\n",
        "  train_error_array = np.array(train_error_lst)\n",
        "  train_mmse_by_degree.append(train_error_array.mean())"
      ],
      "execution_count": 63,
      "outputs": []
    },
    {
      "cell_type": "markdown",
      "metadata": {
        "id": "tiQfVI_47K-1"
      },
      "source": [
        "### Problem 4"
      ]
    },
    {
      "cell_type": "code",
      "metadata": {
        "id": "Q6rYLMgCBum2"
      },
      "source": [
        "abs_mse_diff_by_degree = []\n",
        "for d in range(1, 16):\n",
        "  train_error_lst = train_errors[d]\n",
        "  train_error_array = np.array(train_error_lst)\n",
        "\n",
        "  test_error_lst = test_errors[d]\n",
        "  test_error_array = np.array(test_error_lst)\n",
        "\n",
        "  abs_mse_diff_by_degree.append(np.std(np.abs(train_error_array - test_error_array)))"
      ],
      "execution_count": 64,
      "outputs": []
    },
    {
      "cell_type": "markdown",
      "metadata": {
        "id": "ck8W7jcT53o9"
      },
      "source": [
        "### Problem 5"
      ]
    },
    {
      "cell_type": "code",
      "metadata": {
        "colab": {
          "base_uri": "https://localhost:8080/",
          "height": 281
        },
        "id": "72gqMC8AIc_3",
        "outputId": "d7147f85-15bd-42b0-a3d0-b409a783dd5f"
      },
      "source": [
        "plt.plot(range(1, 16), train_mmse_by_degree)\n",
        "plt.yscale(\"log\")\n",
        "plt.title('bias')\n",
        "plt.show()"
      ],
      "execution_count": 69,
      "outputs": [
        {
          "output_type": "display_data",
          "data": {
            "image/png": "[encoded data removed]",
            "text/plain": [
              "<Figure size 432x288 with 1 Axes>"
            ]
          },
          "metadata": {
            "needs_background": "light"
          }
        }
      ]
    },
    {
      "cell_type": "code",
      "metadata": {
        "colab": {
          "base_uri": "https://localhost:8080/",
          "height": 281
        },
        "id": "g71GfyX-DEe7",
        "outputId": "cd0109e2-193c-468d-9c05-6c8a6f716f02"
      },
      "source": [
        "plt.plot(range(1, 16), abs_mse_diff_by_degree)\n",
        "plt.yscale(\"log\")\n",
        "plt.title('variance')\n",
        "plt.show()"
      ],
      "execution_count": 70,
      "outputs": [
        {
          "output_type": "display_data",
          "data": {
            "image/png": "[encoded data removed]",
            "text/plain": [
              "<Figure size 432x288 with 1 Axes>"
            ]
          },
          "metadata": {
            "needs_background": "light"
          }
        }
      ]
    },
    {
      "cell_type": "markdown",
      "metadata": {
        "id": "k-ITsOrNDOhH"
      },
      "source": [
        "I think degree 4 is the best model to use because it provides a good balance between bias and variance (according the plots above). "
      ]
    },
    {
      "cell_type": "code",
      "metadata": {
        "id": "5SCt-CQzEHWY"
      },
      "source": [
        ""
      ],
      "execution_count": null,
      "outputs": []
    }
  ]
}